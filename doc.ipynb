{
 "cells": [
  {
   "cell_type": "code",
   "execution_count": 48,
   "id": "22dffe9b-c0ed-488c-bb0f-ff6a0e3310dd",
   "metadata": {},
   "outputs": [],
   "source": [
    "import os\n",
    "import torch\n",
    "from torch import nn, optim\n",
    "from torch.utils.data import DataLoader, Dataset\n",
    "from torchvision import transforms\n",
    "from timm import create_model\n",
    "from sklearn.model_selection import train_test_split\n",
    "from PIL import Image"
   ]
  },
  {
   "cell_type": "code",
   "execution_count": 49,
   "id": "c1c228a3-d821-424c-878b-1b89eab0227c",
   "metadata": {},
   "outputs": [],
   "source": [
    "class CelebASpoofDataset(Dataset):\n",
    "    def __init__(self, image_paths, labels, transform=None):\n",
    "        self.image_paths = image_paths\n",
    "        self.labels = labels\n",
    "        self.transform = transform\n",
    "\n",
    "    def __len__(self):\n",
    "        return len(self.image_paths)\n",
    "\n",
    "    def __getitem__(self, idx):\n",
    "        img_path = self.image_paths[idx]\n",
    "        label = self.labels[idx]\n",
    "        image = Image.open(img_path).convert(\"RGB\")\n",
    "\n",
    "        if self.transform:\n",
    "            image = self.transform(image)\n",
    "\n",
    "        return image, label"
   ]
  },
  {
   "cell_type": "code",
   "execution_count": 62,
   "id": "a305ad24-6013-425c-aca9-94cc9997592d",
   "metadata": {},
   "outputs": [],
   "source": [
    "def prepare_data_from_multiple_folders(base_dirs, test_size=0.2, val_size=0.1, valid_extensions=(\".jpg\", \".jpeg\", \".png\")):\n",
    "\n",
    "    image_paths = []\n",
    "    labels = []\n",
    "\n",
    "    for base_dir in base_dirs:\n",
    "        for label_name, label_idx in [(\"live\", 0), (\"spoof\", 1)]:\n",
    "            folder = os.path.join(base_dir, label_name)\n",
    "            if not os.path.exists(folder):\n",
    "                print(f\"Папка {folder} нет.\")\n",
    "                continue\n",
    "            for img_file in os.listdir(folder):\n",
    "                if img_file.lower().endswith(valid_extensions):\n",
    "                    image_paths.append(os.path.join(folder, img_file))\n",
    "                    labels.append(label_idx)\n",
    "\n",
    "    train_paths, test_paths, train_labels, test_labels = train_test_split(\n",
    "        image_paths, labels, test_size=test_size, random_state=42, stratify=labels\n",
    "    )\n",
    "    train_paths, val_paths, train_labels, val_labels = train_test_split(\n",
    "        train_paths, train_labels, test_size=val_size, random_state=42, stratify=train_labels\n",
    "    )\n",
    "\n",
    "    return train_paths, val_paths, test_paths, train_labels, val_labels, test_labels\n"
   ]
  },
  {
   "cell_type": "code",
   "execution_count": 59,
   "id": "fc0a1617-cc58-4947-9e07-450d20bdabfb",
   "metadata": {},
   "outputs": [],
   "source": [
    "def create_mobilevit_model(num_classes=2, pretrained=True):\n",
    "    model = create_model(\"mobilevitv2_175\", pretrained=pretrained) \n",
    "    \n",
    "    dummy_input = torch.randn(1, 3, 224, 224)  \n",
    "    features = model.forward_features(dummy_input) \n",
    "    num_features = features.shape[1] * features.shape[2] * features.shape[3] \n",
    "\n",
    "    model.head = nn.Sequential(\n",
    "        nn.Flatten(), \n",
    "        nn.Linear(num_features, num_classes)  \n",
    "    )\n",
    "    return model"
   ]
  },
  {
   "cell_type": "code",
   "execution_count": 57,
   "id": "cdfc717e-fc2a-44b6-951f-e598d242c892",
   "metadata": {},
   "outputs": [],
   "source": [
    "def train_model(model, train_loader, val_loader, criterion, optimizer, num_epochs=10, device=\"cuda\"):\n",
    "    model.to(device)\n",
    "    best_acc = 0.0\n",
    "\n",
    "    for epoch in range(num_epochs):\n",
    "        model.train()\n",
    "        train_loss = 0.0\n",
    "        correct = 0\n",
    "        total = 0\n",
    "\n",
    "        for images, labels in train_loader:\n",
    "            images, labels = images.to(device), labels.to(device)\n",
    "\n",
    "            optimizer.zero_grad()\n",
    "            outputs = model(images)\n",
    "            loss = criterion(outputs, labels)\n",
    "            loss.backward()\n",
    "            optimizer.step()\n",
    "\n",
    "            train_loss += loss.item()\n",
    "            _, predicted = outputs.max(1)\n",
    "            total += labels.size(0)\n",
    "            correct += predicted.eq(labels).sum().item()\n",
    "\n",
    "        train_acc = 100. * correct / total\n",
    "\n",
    "        model.eval()\n",
    "        val_loss = 0.0\n",
    "        correct = 0\n",
    "        total = 0\n",
    "        with torch.no_grad():\n",
    "            for images, labels in val_loader:\n",
    "                images, labels = images.to(device), labels.to(device)\n",
    "                outputs = model(images)\n",
    "                loss = criterion(outputs, labels)\n",
    "\n",
    "                val_loss += loss.item()\n",
    "                _, predicted = outputs.max(1)\n",
    "                total += labels.size(0)\n",
    "                correct += predicted.eq(labels).sum().item()\n",
    "\n",
    "        val_acc = 100. * correct / total\n",
    "\n",
    "        print(f\"Epoch {epoch+1}/{num_epochs}, Train Loss: {train_loss:.4f}, Train Acc: {train_acc:.2f}%, Val Loss: {val_loss:.4f}, Val Acc: {val_acc:.2f}%\")\n",
    "\n",
    "        if val_acc > best_acc:\n",
    "            best_acc = val_acc\n",
    "            torch.save(model.state_dict(), \"best_mobilevitv2_175.pth\")\n",
    "\n",
    "    print(f\"Best Validation Accuracy: {best_acc:.2f}%\")"
   ]
  },
  {
   "cell_type": "code",
   "execution_count": 65,
   "id": "79278abc-b38b-4ab8-8bf0-0cbc2abe1e62",
   "metadata": {},
   "outputs": [
    {
     "name": "stdout",
     "output_type": "stream",
     "text": [
      "Epoch 1/5, Train Loss: 17.4477, Train Acc: 88.89%, Val Loss: 0.4008, Val Acc: 93.33%\n",
      "Epoch 2/5, Train Loss: 27.5243, Train Acc: 88.89%, Val Loss: 1.8773, Val Acc: 86.67%\n",
      "Epoch 3/5, Train Loss: 16.7612, Train Acc: 94.81%, Val Loss: 9.4450, Val Acc: 86.67%\n",
      "Epoch 4/5, Train Loss: 7.2905, Train Acc: 96.30%, Val Loss: 8.8427, Val Acc: 86.67%\n",
      "Epoch 5/5, Train Loss: 9.0267, Train Acc: 94.07%, Val Loss: 0.6234, Val Acc: 93.33%\n",
      "Best Validation Accuracy: 93.33%\n",
      "Training completed. The best model is saved as 'best_mobilevitv2_175.pth'.\n"
     ]
    }
   ],
   "source": [
    "if __name__ == \"__main__\":\n",
    "    base_dirs = [\n",
    "        \"C:/Users/annam/Documents/Проекты/Диплом/Данные 2/CelebA_Spoof/Data/train/1/\",\n",
    "        \"C:/Users/annam/Documents/Проекты/Диплом/Данные 2/CelebA_Spoof/Data/train/2/\",\n",
    "        \"C:/Users/annam/Documents/Проекты/Диплом/Данные 2/CelebA_Spoof/Data/train/3/\"\n",
    "    ]\n",
    "    \n",
    "    \n",
    "    batch_size = 8\n",
    "    num_epochs = 5\n",
    "    learning_rate = 0.001\n",
    "    device = \"cuda\" if torch.cuda.is_available() else \"cpu\"\n",
    "\n",
    "    train_paths, val_paths, test_paths, train_labels, val_labels, test_labels = prepare_data_from_multiple_folders(base_dirs)\n",
    "\n",
    "    input_size = (224, 224) \n",
    "\n",
    "    transform = transforms.Compose([\n",
    "        transforms.Resize(input_size),  \n",
    "        transforms.ToTensor(),\n",
    "        transforms.Normalize(mean=[0.5, 0.5, 0.5], std=[0.5, 0.5, 0.5]),\n",
    "    ])\n",
    "\n",
    "    train_dataset = CelebASpoofDataset(train_paths, train_labels, transform=transform)\n",
    "    val_dataset = CelebASpoofDataset(val_paths, val_labels, transform=transform)\n",
    "    train_loader = DataLoader(train_dataset, batch_size=batch_size, shuffle=True)\n",
    "    val_loader = DataLoader(val_dataset, batch_size=batch_size, shuffle=False)\n",
    "\n",
    "    model = create_mobilevit_model(num_classes=2, pretrained=True)\n",
    "\n",
    "    criterion = nn.CrossEntropyLoss()\n",
    "    optimizer = optim.Adam(model.parameters(), lr=learning_rate)\n",
    "\n",
    "    train_model(model, train_loader, val_loader, criterion, optimizer, num_epochs=num_epochs, device=device)\n",
    "\n",
    "    print(\"Training completed. The best model is saved as 'best_mobilevitv2_175.pth'.\")"
   ]
  },
  {
   "cell_type": "code",
   "execution_count": 66,
   "id": "7e2f7cda-9db9-4480-ae1f-62105c705194",
   "metadata": {},
   "outputs": [],
   "source": [
    "def test_model(model, test_loader, device=\"cuda\"):\n",
    "    \"\"\"\n",
    "    Проверка точности модели на тестовых данных.\n",
    "    \"\"\"\n",
    "    model.to(device)\n",
    "    model.eval()\n",
    "    correct = 0\n",
    "    total = 0\n",
    "\n",
    "    with torch.no_grad():\n",
    "        for images, labels in test_loader:\n",
    "            images, labels = images.to(device), labels.to(device)\n",
    "            outputs = model(images)\n",
    "            _, predicted = outputs.max(1)\n",
    "            total += labels.size(0)\n",
    "            correct += predicted.eq(labels).sum().item()\n",
    "\n",
    "    test_acc = 100. * correct / total\n",
    "    print(f\"Test Accuracy: {test_acc:.2f}%\")"
   ]
  },
  {
   "cell_type": "code",
   "execution_count": 67,
   "id": "86aa0b92-b9c5-4300-a485-94912cf0cb86",
   "metadata": {},
   "outputs": [
    {
     "name": "stderr",
     "output_type": "stream",
     "text": [
      "C:\\Users\\annam\\AppData\\Local\\Temp\\ipykernel_113336\\3793627334.py:4: FutureWarning: You are using `torch.load` with `weights_only=False` (the current default value), which uses the default pickle module implicitly. It is possible to construct malicious pickle data which will execute arbitrary code during unpickling (See https://github.com/pytorch/pytorch/blob/main/SECURITY.md#untrusted-models for more details). In a future release, the default value for `weights_only` will be flipped to `True`. This limits the functions that could be executed during unpickling. Arbitrary objects will no longer be allowed to be loaded via this mode unless they are explicitly allowlisted by the user via `torch.serialization.add_safe_globals`. We recommend you start setting `weights_only=True` for any use case where you don't have full control of the loaded file. Please open an issue on GitHub for any issues related to this experimental feature.\n",
      "  model.load_state_dict(torch.load(\"best_mobilevitv2_175.pth\"))\n"
     ]
    },
    {
     "name": "stdout",
     "output_type": "stream",
     "text": [
      "Test Accuracy: 89.47%\n"
     ]
    }
   ],
   "source": [
    "test_dataset = CelebASpoofDataset(test_paths, test_labels, transform=transform)\n",
    "test_loader = DataLoader(test_dataset, batch_size=batch_size, shuffle=False)\n",
    "model.load_state_dict(torch.load(\"best_mobilevitv2_175.pth\"))\n",
    "\n",
    "test_model(model, test_loader, device=device)"
   ]
  },
  {
   "cell_type": "code",
   "execution_count": null,
   "id": "4e35994b-777b-4308-ab70-f91de7e56ed0",
   "metadata": {},
   "outputs": [],
   "source": []
  }
 ],
 "metadata": {
  "kernelspec": {
   "display_name": "Python 3 (ipykernel)",
   "language": "python",
   "name": "python3"
  },
  "language_info": {
   "codemirror_mode": {
    "name": "ipython",
    "version": 3
   },
   "file_extension": ".py",
   "mimetype": "text/x-python",
   "name": "python",
   "nbconvert_exporter": "python",
   "pygments_lexer": "ipython3",
   "version": "3.11.11"
  }
 },
 "nbformat": 4,
 "nbformat_minor": 5
}
